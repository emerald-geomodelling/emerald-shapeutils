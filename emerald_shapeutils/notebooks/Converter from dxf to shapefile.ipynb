{
 "cells": [
  {
   "cell_type": "markdown",
   "metadata": {},
   "source": [
    "## Converter from dxf (Autocad) to shapefile\n",
    "\n",
    "If your files are in .dwg you first convert them to dxf: https://cloudconvert.com/dwg-to-dxf "
   ]
  },
  {
   "cell_type": "code",
   "execution_count": 1,
   "metadata": {},
   "outputs": [
    {
     "name": "stderr",
     "output_type": "stream",
     "text": [
      "/Users/glinares/Code/env1611/lib/python3.8/site-packages/geopandas/_compat.py:111: UserWarning: The Shapely GEOS version (3.10.1-CAPI-1.16.0) is incompatible with the GEOS version PyGEOS was compiled with (3.10.0-CAPI-1.16.0). Conversions between both will be slow.\n",
      "  warnings.warn(\n"
     ]
    }
   ],
   "source": [
    "import geopandas as gpd"
   ]
  },
  {
   "cell_type": "code",
   "execution_count": 2,
   "metadata": {},
   "outputs": [
    {
     "data": {
      "text/plain": [
       "<AxesSubplot:>"
      ]
     },
     "execution_count": 2,
     "metadata": {},
     "output_type": "execute_result"
    },
    {
     "data": {
      "image/png": "[encoded data removed]",
      "text/plain": [
       "<Figure size 432x288 with 1 Axes>"
      ]
     },
     "metadata": {
      "needs_background": "light"
     },
     "output_type": "display_data"
    }
   ],
   "source": [
    "plano = gpd.read_file('/Users/glinares/RUMO/structures/XREF_Prioridade_05_v3.dxf')\n",
    "plano.plot()"
   ]
  },
  {
   "cell_type": "code",
   "execution_count": 3,
   "metadata": {},
   "outputs": [
    {
     "data": {
      "text/html": [
       "<div>\n",
       "<style scoped>\n",
       "    .dataframe tbody tr th:only-of-type {\n",
       "        vertical-align: middle;\n",
       "    }\n",
       "\n",
       "    .dataframe tbody tr th {\n",
       "        vertical-align: top;\n",
       "    }\n",
       "\n",
       "    .dataframe thead th {\n",
       "        text-align: right;\n",
       "    }\n",
       "</style>\n",
       "<table border=\"1\" class=\"dataframe\">\n",
       "  <thead>\n",
       "    <tr style=\"text-align: right;\">\n",
       "      <th></th>\n",
       "      <th>Layer</th>\n",
       "      <th>PaperSpace</th>\n",
       "      <th>SubClasses</th>\n",
       "      <th>Linetype</th>\n",
       "      <th>EntityHandle</th>\n",
       "      <th>Text</th>\n",
       "      <th>geometry</th>\n",
       "    </tr>\n",
       "  </thead>\n",
       "  <tbody>\n",
       "    <tr>\n",
       "      <th>0</th>\n",
       "      <td>T-VIA_RODOVIA_NPAV</td>\n",
       "      <td>None</td>\n",
       "      <td>AcDbEntity:AcDbPolyline</td>\n",
       "      <td>None</td>\n",
       "      <td>103EBB74</td>\n",
       "      <td>None</td>\n",
       "      <td>LINESTRING (742128.936 8222078.331, 742128.553...</td>\n",
       "    </tr>\n",
       "    <tr>\n",
       "      <th>1</th>\n",
       "      <td>T-VIA_RODOVIA_NPAV</td>\n",
       "      <td>None</td>\n",
       "      <td>AcDbEntity:AcDbPolyline</td>\n",
       "      <td>None</td>\n",
       "      <td>103EBB75</td>\n",
       "      <td>None</td>\n",
       "      <td>LINESTRING (741962.218 8222068.479, 741963.302...</td>\n",
       "    </tr>\n",
       "    <tr>\n",
       "      <th>2</th>\n",
       "      <td>T-VIA_RODOVIA_NPAV</td>\n",
       "      <td>None</td>\n",
       "      <td>AcDbEntity:AcDbPolyline</td>\n",
       "      <td>None</td>\n",
       "      <td>103EBB76</td>\n",
       "      <td>None</td>\n",
       "      <td>LINESTRING (742495.144 8221406.999, 742495.028...</td>\n",
       "    </tr>\n",
       "    <tr>\n",
       "      <th>3</th>\n",
       "      <td>T-VIA_RODOVIA_NPAV</td>\n",
       "      <td>None</td>\n",
       "      <td>AcDbEntity:AcDbPolyline</td>\n",
       "      <td>None</td>\n",
       "      <td>103EBB90</td>\n",
       "      <td>None</td>\n",
       "      <td>LINESTRING (743981.743 8224122.896, 743981.023...</td>\n",
       "    </tr>\n",
       "    <tr>\n",
       "      <th>4</th>\n",
       "      <td>T-VIA_RODOVIA_NPAV</td>\n",
       "      <td>None</td>\n",
       "      <td>AcDbEntity:AcDbPolyline</td>\n",
       "      <td>None</td>\n",
       "      <td>103EBBC5</td>\n",
       "      <td>None</td>\n",
       "      <td>LINESTRING (743141.124 8224980.467, 743141.895...</td>\n",
       "    </tr>\n",
       "    <tr>\n",
       "      <th>...</th>\n",
       "      <td>...</td>\n",
       "      <td>...</td>\n",
       "      <td>...</td>\n",
       "      <td>...</td>\n",
       "      <td>...</td>\n",
       "      <td>...</td>\n",
       "      <td>...</td>\n",
       "    </tr>\n",
       "    <tr>\n",
       "      <th>5183</th>\n",
       "      <td>T-VIA_RODOVIA_NPAV</td>\n",
       "      <td>None</td>\n",
       "      <td>AcDbEntity:AcDbPolyline</td>\n",
       "      <td>None</td>\n",
       "      <td>10438227</td>\n",
       "      <td>None</td>\n",
       "      <td>LINESTRING Z (736902.294 8216887.553 315.890, ...</td>\n",
       "    </tr>\n",
       "    <tr>\n",
       "      <th>5184</th>\n",
       "      <td>T-VIA_RODOVIA_NPAV</td>\n",
       "      <td>None</td>\n",
       "      <td>AcDbEntity:AcDbPolyline</td>\n",
       "      <td>None</td>\n",
       "      <td>10438228</td>\n",
       "      <td>None</td>\n",
       "      <td>LINESTRING Z (736688.603 8216206.225 283.750, ...</td>\n",
       "    </tr>\n",
       "    <tr>\n",
       "      <th>5185</th>\n",
       "      <td>T-VIA_RODOVIA_NPAV</td>\n",
       "      <td>None</td>\n",
       "      <td>AcDbEntity:AcDbPolyline</td>\n",
       "      <td>None</td>\n",
       "      <td>10438229</td>\n",
       "      <td>None</td>\n",
       "      <td>LINESTRING Z (736684.302 8216208.628 283.750, ...</td>\n",
       "    </tr>\n",
       "    <tr>\n",
       "      <th>5186</th>\n",
       "      <td>T-VIA_RODOVIA_NPAV</td>\n",
       "      <td>None</td>\n",
       "      <td>AcDbEntity:AcDbPolyline</td>\n",
       "      <td>None</td>\n",
       "      <td>1043827E</td>\n",
       "      <td>None</td>\n",
       "      <td>LINESTRING Z (737313.335 8215568.559 291.840, ...</td>\n",
       "    </tr>\n",
       "    <tr>\n",
       "      <th>5187</th>\n",
       "      <td>T-VIA_RODOVIA_NPAV</td>\n",
       "      <td>None</td>\n",
       "      <td>AcDbEntity:AcDbPolyline</td>\n",
       "      <td>None</td>\n",
       "      <td>1043827F</td>\n",
       "      <td>None</td>\n",
       "      <td>LINESTRING Z (737314.069 8215563.392 291.840, ...</td>\n",
       "    </tr>\n",
       "  </tbody>\n",
       "</table>\n",
       "<p>5188 rows × 7 columns</p>\n",
       "</div>"
      ],
      "text/plain": [
       "                   Layer PaperSpace               SubClasses Linetype  \\\n",
       "0     T-VIA_RODOVIA_NPAV       None  AcDbEntity:AcDbPolyline     None   \n",
       "1     T-VIA_RODOVIA_NPAV       None  AcDbEntity:AcDbPolyline     None   \n",
       "2     T-VIA_RODOVIA_NPAV       None  AcDbEntity:AcDbPolyline     None   \n",
       "3     T-VIA_RODOVIA_NPAV       None  AcDbEntity:AcDbPolyline     None   \n",
       "4     T-VIA_RODOVIA_NPAV       None  AcDbEntity:AcDbPolyline     None   \n",
       "...                  ...        ...                      ...      ...   \n",
       "5183  T-VIA_RODOVIA_NPAV       None  AcDbEntity:AcDbPolyline     None   \n",
       "5184  T-VIA_RODOVIA_NPAV       None  AcDbEntity:AcDbPolyline     None   \n",
       "5185  T-VIA_RODOVIA_NPAV       None  AcDbEntity:AcDbPolyline     None   \n",
       "5186  T-VIA_RODOVIA_NPAV       None  AcDbEntity:AcDbPolyline     None   \n",
       "5187  T-VIA_RODOVIA_NPAV       None  AcDbEntity:AcDbPolyline     None   \n",
       "\n",
       "     EntityHandle  Text                                           geometry  \n",
       "0        103EBB74  None  LINESTRING (742128.936 8222078.331, 742128.553...  \n",
       "1        103EBB75  None  LINESTRING (741962.218 8222068.479, 741963.302...  \n",
       "2        103EBB76  None  LINESTRING (742495.144 8221406.999, 742495.028...  \n",
       "3        103EBB90  None  LINESTRING (743981.743 8224122.896, 743981.023...  \n",
       "4        103EBBC5  None  LINESTRING (743141.124 8224980.467, 743141.895...  \n",
       "...           ...   ...                                                ...  \n",
       "5183     10438227  None  LINESTRING Z (736902.294 8216887.553 315.890, ...  \n",
       "5184     10438228  None  LINESTRING Z (736688.603 8216206.225 283.750, ...  \n",
       "5185     10438229  None  LINESTRING Z (736684.302 8216208.628 283.750, ...  \n",
       "5186     1043827E  None  LINESTRING Z (737313.335 8215568.559 291.840, ...  \n",
       "5187     1043827F  None  LINESTRING Z (737314.069 8215563.392 291.840, ...  \n",
       "\n",
       "[5188 rows x 7 columns]"
      ]
     },
     "execution_count": 3,
     "metadata": {},
     "output_type": "execute_result"
    }
   ],
   "source": [
    "plano"
   ]
  },
  {
   "cell_type": "code",
   "execution_count": 4,
   "metadata": {},
   "outputs": [],
   "source": [
    "planoLines = plano[plano.geometry.type=='LineString']"
   ]
  },
  {
   "cell_type": "code",
   "execution_count": null,
   "metadata": {},
   "outputs": [],
   "source": [
    "planoLines.to_file('/Users/glinares/RUMO/structures/XREF_Prioridade_05_v3.shp')"
   ]
  }
 ],
 "metadata": {
  "kernelspec": {
   "display_name": "env1611",
   "language": "python",
   "name": "env1611"
  },
  "language_info": {
   "codemirror_mode": {
    "name": "ipython",
    "version": 3
   },
   "file_extension": ".py",
   "mimetype": "text/x-python",
   "name": "python",
   "nbconvert_exporter": "python",
   "pygments_lexer": "ipython3",
   "version": "3.8.2"
  }
 },
 "nbformat": 4,
 "nbformat_minor": 4
}
